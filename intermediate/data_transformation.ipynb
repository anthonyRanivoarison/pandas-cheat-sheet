{
 "cells": [
  {
   "metadata": {},
   "cell_type": "markdown",
   "source": "# Introducing Data Transformation",
   "id": "f6cceb608bc41171"
  },
  {
   "metadata": {},
   "cell_type": "code",
   "outputs": [],
   "execution_count": null,
   "source": [
    "import pandas as pd\n",
    "import numpy as np\n",
    "\n",
    "df = pd.read_csv('../data/peoples.csv')"
   ],
   "id": "13072b36d1c4e830"
  },
  {
   "metadata": {},
   "cell_type": "markdown",
   "source": "## Applying functions (.apply, .map, .transform, .replace, ...)",
   "id": "2518b4b98a7d2cbc"
  },
  {
   "metadata": {},
   "cell_type": "code",
   "outputs": [],
   "execution_count": null,
   "source": [
    "df['col'].apply(lambda x: x**2)      # For each values in this column, we transform this **2\n",
    "df['col'].map({'A':1, 'B':2})        # mapping dict\n",
    "df[['a', 'b']].apply(np.sum, axis=1) # row-wise\n",
    "df.transform(lambda x: x*10)         # returns same shape"
   ],
   "id": "6594d4668e2ca59e"
  },
  {
   "metadata": {},
   "cell_type": "markdown",
   "source": "## String and Datetime operations",
   "id": "35c33a0eda010466"
  },
  {
   "metadata": {},
   "cell_type": "code",
   "outputs": [],
   "execution_count": null,
   "source": [
    "### Strings\n",
    "df['col'].str.upper()          # uppercase\n",
    "df['col'].str.lower()          # lowercase\n",
    "df['col'].str.contains('text') # check substring\n",
    "df['col'].str.replace('old', 'new')\n",
    "df['col'].str.len()            # string length"
   ],
   "id": "7aa1516fdf85400e"
  },
  {
   "metadata": {},
   "cell_type": "code",
   "outputs": [],
   "execution_count": null,
   "source": [
    "### Datetime\n",
    "df['date'] = pd.to_datetime(df['date'])     # convert to datetime\n",
    "df['date'].dt.year                          # extract year\n",
    "df['date'].dt.month                         # extract month\n",
    "df['date'].dt.day_name()                    # get weekday name\n",
    "df['date'].dt.strftime('%Y-%m-%d')          # custom format\n",
    "df.set_index('date').resample('M').mean()   # resample by month"
   ],
   "id": "75df698a7a1d70ad"
  },
  {
   "metadata": {},
   "cell_type": "markdown",
   "source": "**Adapt to column date of birth in the data/peoples.csv file if you wanna run cells**",
   "id": "96fba56c8f28ba1f"
  },
  {
   "metadata": {},
   "cell_type": "code",
   "outputs": [],
   "execution_count": null,
   "source": "",
   "id": "bb004281919dcf24"
  }
 ],
 "metadata": {},
 "nbformat": 4,
 "nbformat_minor": 5
}
