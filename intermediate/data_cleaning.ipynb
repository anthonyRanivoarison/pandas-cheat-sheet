{
 "cells": [
  {
   "metadata": {},
   "cell_type": "markdown",
   "source": "# Data cleaning with Pandas",
   "id": "7041307758bc096"
  },
  {
   "metadata": {},
   "cell_type": "code",
   "outputs": [],
   "execution_count": null,
   "source": [
    "import pandas as pd\n",
    "\n",
    "df = pd.read_csv('../data/peoples.csv')"
   ],
   "id": "bf586c3cb305705b"
  },
  {
   "metadata": {},
   "cell_type": "markdown",
   "source": "## Checking your data",
   "id": "65ddb7c2363f5656"
  },
  {
   "metadata": {},
   "cell_type": "code",
   "outputs": [],
   "execution_count": null,
   "source": [
    "df.info()\n",
    "df.describe()\n",
    "df.isnull().sum()\n",
    "df.head()"
   ],
   "id": "efff3a066d9862f4"
  },
  {
   "metadata": {},
   "cell_type": "markdown",
   "source": "## Removing or filling missing data",
   "id": "75d622b325915b98"
  },
  {
   "metadata": {},
   "cell_type": "code",
   "outputs": [],
   "execution_count": null,
   "source": "df.dropna() # Remove rows with at least one missing value",
   "id": "e9ce2b531f2432b5"
  },
  {
   "metadata": {},
   "cell_type": "code",
   "outputs": [],
   "execution_count": null,
   "source": "df.dropna(axis=1) # Remove columns with missing values - [axis=1 - column] - [axis=0 - row]",
   "id": "a88b421132d202d5"
  },
  {
   "metadata": {},
   "cell_type": "code",
   "outputs": [],
   "execution_count": null,
   "source": "df.fillna(0) # Replace Nan into 0, or other values",
   "id": "f2a8b3159ed97ccd"
  },
  {
   "metadata": {},
   "cell_type": "code",
   "outputs": [],
   "execution_count": null,
   "source": [
    "### Replace Nan into mean or median of the column\n",
    "df['col'].fillna(df['col'].mean())\n",
    "df['col'].fillna(df['col'].median())"
   ],
   "id": "26901b386f449c44"
  },
  {
   "metadata": {},
   "cell_type": "code",
   "outputs": [],
   "execution_count": null,
   "source": [
    "### Replace Nan using previous or intermediate method\n",
    "df.fillna(method='ffill') # forward fill\n",
    "df.fillna(method='bfill') # backward fill"
   ],
   "id": "d7003c097f1c0eb1"
  },
  {
   "metadata": {},
   "cell_type": "markdown",
   "source": "## Removing duplicates",
   "id": "28c8b3905bc3da5e"
  },
  {
   "metadata": {},
   "cell_type": "code",
   "outputs": [],
   "execution_count": null,
   "source": [
    "df.drop_duplicates()  # drop duplicates rows\n",
    "df.drop_duplicates(subset=['col1', 'col2'], keep='first') # drop with some columns"
   ],
   "id": "fcde07b48dfc58e4"
  },
  {
   "metadata": {},
   "cell_type": "markdown",
   "source": "## Renaming and cleaning columns",
   "id": "9d34fd79e7ab5cd5"
  },
  {
   "metadata": {},
   "cell_type": "code",
   "outputs": [],
   "execution_count": null,
   "source": [
    "df.rename(columns={'old_name': 'new_name'}, inplace=True) # Rename a column\n",
    "\n",
    "df.columns = ['col1', 'col2', 'col3'] # Rename all columns"
   ],
   "id": "40d4a6b42da3df62"
  },
  {
   "metadata": {},
   "cell_type": "markdown",
   "source": "## Cleaning columns' names (drop spaces...)",
   "id": "ce16d82b5a08a943"
  },
  {
   "metadata": {},
   "cell_type": "code",
   "outputs": [],
   "execution_count": null,
   "source": "df.columns = df.columns.str.strip().str.lower().str.replace(' ', '_')",
   "id": "2b04254b815cde79"
  },
  {
   "metadata": {},
   "cell_type": "markdown",
   "source": "### Changing data types",
   "id": "43ab8b2206ed0c7c"
  },
  {
   "metadata": {},
   "cell_type": "code",
   "outputs": [],
   "execution_count": null,
   "source": [
    "df['col'] = df['col'].astype(int)      # convert to int\n",
    "df['col'] = pd.to_datetime(df['col']) # convert to datetime\n",
    "df['col'] = df['col'].astype(str)     # convert to string"
   ],
   "id": "33d0d1cbb6f85318"
  }
 ],
 "metadata": {},
 "nbformat": 4,
 "nbformat_minor": 5
}
