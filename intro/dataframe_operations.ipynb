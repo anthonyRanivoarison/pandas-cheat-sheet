{
 "cells": [
  {
   "metadata": {},
   "cell_type": "markdown",
   "source": "# DataFrame Operations",
   "id": "d65d2e905fe01862"
  },
  {
   "metadata": {},
   "cell_type": "code",
   "outputs": [],
   "execution_count": null,
   "source": "import pandas as pd",
   "id": "88ab5d6632c38e9"
  },
  {
   "metadata": {},
   "cell_type": "markdown",
   "source": "## Reading file - data",
   "id": "bf28c3f0c4c6497"
  },
  {
   "metadata": {},
   "cell_type": "code",
   "outputs": [],
   "execution_count": null,
   "source": "df = pd.read_csv('data/peoples.csv')",
   "id": "41e71dee8e441a02"
  },
  {
   "metadata": {},
   "cell_type": "markdown",
   "source": "## Selecting data",
   "id": "1f0e5c44b7fa45fc"
  },
  {
   "metadata": {},
   "cell_type": "code",
   "outputs": [],
   "execution_count": null,
   "source": [
    "df['name']             # one column (as Series)\n",
    "df[['name', 'age']]    # several columns (as DataFrame)\n",
    "\n",
    "df.iloc[0]             # first row (by index, as Series)\n",
    "df.loc[0]              # same, by label (if index has labels)\n",
    "\n",
    "df.iloc[0:2]           # first two rows"
   ],
   "id": "d9c1d1acac54ef9f"
  },
  {
   "metadata": {},
   "cell_type": "markdown",
   "source": "## Filtering rows",
   "id": "d7c26dfeb6212916"
  },
  {
   "metadata": {},
   "cell_type": "code",
   "outputs": [],
   "execution_count": null,
   "source": [
    "df[df['age'] > 20]               # rows where age > 20\n",
    "df[df['city'] == 'Paris']        # rows where city is Paris"
   ],
   "id": "b85df94dab975b8e"
  },
  {
   "metadata": {},
   "cell_type": "markdown",
   "source": "## Sorting: ascending - descending",
   "id": "29634924991754fc"
  },
  {
   "metadata": {},
   "cell_type": "code",
   "outputs": [],
   "execution_count": null,
   "source": [
    "df.sort_values(by='age')                     # ascending\n",
    "df.sort_values(by='age', ascending=False)    # descending"
   ],
   "id": "17b24e619b911d6b"
  },
  {
   "metadata": {},
   "cell_type": "markdown",
   "source": "## Adding or modifying columns",
   "id": "8c59f3b3aa11778b"
  },
  {
   "metadata": {},
   "cell_type": "code",
   "outputs": [],
   "execution_count": null,
   "source": [
    "df['country'] = 'USA'                # add constant value\n",
    "df['age_more_10'] = df['age'] + 10   # compute a new column"
   ],
   "id": "328ae5971f4fb04"
  },
  {
   "metadata": {},
   "cell_type": "markdown",
   "source": "## Removing column",
   "id": "27b3165678944ac6"
  },
  {
   "metadata": {},
   "cell_type": "code",
   "outputs": [],
   "execution_count": null,
   "source": "df.drop(columns=['age_more_10'], inplace=True) # inplace=True means that you want to delete this in this dataframe",
   "id": "12b3a702f3625ef5"
  },
  {
   "metadata": {},
   "cell_type": "markdown",
   "source": "## Reset - with Set Index",
   "id": "fc910b6ab97e4797"
  },
  {
   "metadata": {},
   "cell_type": "code",
   "outputs": [],
   "execution_count": null,
   "source": [
    "df.set_index('name', inplace=True)    # set 'name' as index\n",
    "df.reset_index(inplace=True)          # reset to default integers"
   ],
   "id": "e1630aa7c8c83ea9"
  },
  {
   "metadata": {},
   "cell_type": "markdown",
   "source": "## Combinig datasets - df",
   "id": "1f72074c7a588995"
  },
  {
   "metadata": {},
   "cell_type": "markdown",
   "source": "### Concat two dataframes",
   "id": "ddc114b5a7dcd530"
  },
  {
   "metadata": {},
   "cell_type": "code",
   "outputs": [],
   "execution_count": null,
   "source": [
    "df2 = pd.read_csv('data/peoples.csv')\n",
    "pd.concat([df, df2])"
   ],
   "id": "8b3cbcfe4062ff0a"
  },
  {
   "metadata": {},
   "cell_type": "markdown",
   "source": "### Join two or more dataframes",
   "id": "c2a3f6519f97fe9a"
  },
  {
   "metadata": {},
   "cell_type": "code",
   "outputs": [],
   "execution_count": null,
   "source": [
    "df.merge(df2, on='key')                    # Inner join\n",
    "df.merge(df2, on='key', how='left')        # Left join\n",
    "df.merge(df2, on='key', how='right')       # Right join\n",
    "df.merge(df2, on='key', how='outer')       # Outer join"
   ],
   "id": "81d71a4ec00f9f87"
  }
 ],
 "metadata": {},
 "nbformat": 4,
 "nbformat_minor": 5
}
