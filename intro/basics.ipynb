{
 "cells": [
  {
   "metadata": {},
   "cell_type": "markdown",
   "source": "# 🐼 Getting started with pandas",
   "id": "ca9b62fb0813d320"
  },
  {
   "metadata": {},
   "cell_type": "code",
   "outputs": [],
   "execution_count": null,
   "source": "import pandas as pd # Importing module",
   "id": "307214302e9875be"
  },
  {
   "metadata": {},
   "cell_type": "markdown",
   "source": "## Reading files: .csv, .json, .excel, .sql - # .read_xxx('file_path.xxx')",
   "id": "8b03d844fd50f9ab"
  },
  {
   "metadata": {},
   "cell_type": "code",
   "outputs": [],
   "execution_count": null,
   "source": [
    "df_csv = pd.read_csv('file.csv')\n",
    "df_json = pd.read_json('file.json')\n",
    "df_excel = pd.read_excel('file.xlsx')"
   ],
   "id": "81f9c0782beca991"
  },
  {
   "metadata": {},
   "cell_type": "markdown",
   "source": "## Show the first rows of the dataframe (default: 5)",
   "id": "f2c2d00071640b3f"
  },
  {
   "metadata": {},
   "cell_type": "code",
   "outputs": [],
   "execution_count": null,
   "source": [
    "df_csv.head()             # You can also use .head(n) to show n rows\n",
    "df_json.head(10)"
   ],
   "id": "fb8567b1b01ac450"
  },
  {
   "metadata": {},
   "cell_type": "markdown",
   "source": "## Show the last rows of the dataframe",
   "id": "c429bea7cbdc6afa"
  },
  {
   "metadata": {},
   "cell_type": "code",
   "outputs": [],
   "execution_count": null,
   "source": [
    "df_csv.tail()             # Like .head(n), but from the end\n",
    "df_json.tail(10)"
   ],
   "id": "ee599d869ec42745"
  },
  {
   "metadata": {},
   "cell_type": "markdown",
   "source": "## Getting dataframe informations",
   "id": "afaf7ead1e340b1d"
  },
  {
   "metadata": {},
   "cell_type": "code",
   "outputs": [],
   "execution_count": null,
   "source": [
    "# Show total number of rows and columns\n",
    "df_csv.shape              # Returns a tuple: (rows, columns)\n",
    "\n",
    "# Columns names\n",
    "df_csv.columns            # Index of column names\n",
    "\n",
    "# Data types of each column\n",
    "df_csv.dtypes\n",
    "\n",
    "# Quick statistics on numeric columns\n",
    "df_csv.describe()\n",
    "\n",
    "# Access to data and get dataframe description\n",
    "df_csv.head()            # first 5 rows\n",
    "df_csv.tail()            # last 5 rows\n",
    "df_csv.shape             # (rows, columns)\n",
    "df_json.columns          # column names\n",
    "df_json.dtypes           # data types\n",
    "df_json.info()           # summary of the dataframe"
   ],
   "id": "8dadca1ecae8fb1f"
  },
  {
   "metadata": {},
   "cell_type": "markdown",
   "source": "## Actions to DataFrame",
   "id": "e2859652efd2060f"
  },
  {
   "metadata": {},
   "cell_type": "code",
   "outputs": [],
   "execution_count": null,
   "source": [
    "# Sort rows\n",
    "df_csv.sort_values(by='column_name', ascending=True)\n",
    "\n",
    "# Add a new column\n",
    "df_csv['new_column'] = df_csv['col1'] + df_csv['col2']\n",
    "\n",
    "# Drop (remove) a column\n",
    "df_csv.drop(columns=['col1'], inplace=True)\n",
    "\n",
    "# Save the dataframe to a new file\n",
    "df_csv.to_csv('new_file.csv', index=False)"
   ],
   "id": "d55b17f1a1cb4c4b"
  },
  {
   "metadata": {},
   "cell_type": "markdown",
   "source": "## Question...What is dataframe ?",
   "id": "5e2a1aea646d6e38"
  },
  {
   "metadata": {},
   "cell_type": "code",
   "outputs": [],
   "execution_count": null,
   "source": [
    "# (1) Pandas Dataframe 🐼\n",
    "\n",
    "# What is this?\n",
    "# 👉 A DataFrame is like a big dictionary or table with rows (index) and columns (labels)\n",
    "\n",
    "# Getting started\n",
    "\n",
    "# Creating a dictionary\n",
    "data = {\n",
    "    'name': ['Alice', 'Bob', 'Harry'],\n",
    "    'age': [12, 25, 30],\n",
    "    'city': ['London', 'Boston', 'Paris']\n",
    "}\n",
    "\n",
    "# Convert this dictionary into a DataFrame\n",
    "df = pd.DataFrame(data)\n",
    "\n",
    "print(df)\n",
    "\n",
    "# Should have\n",
    "\n",
    "#    name  age    city\n",
    "# 0  Alice   12  London\n",
    "# 1    Bob   25  Boston\n",
    "# 2  Harry   30   Paris\n",
    "\n",
    "# -> See **dataframe_operations.py** for more information on making operations to this data"
   ],
   "id": "a35e0e0e52abf90e"
  }
 ],
 "metadata": {},
 "nbformat": 4,
 "nbformat_minor": 5
}
